{
 "cells": [
  {
   "cell_type": "code",
   "execution_count": 1,
   "id": "7594d0c8",
   "metadata": {},
   "outputs": [],
   "source": [
    "#step1.관련 패키지 import\n",
    "from selenium import webdriver\n",
    "from selenium.webdriver.common.keys import Keys\n",
    "import time\n",
    "from datetime import date\n",
    "from openpyxl import Workbook\n",
    "from bs4 import BeautifulSoup"
   ]
  },
  {
   "cell_type": "code",
   "execution_count": 2,
   "id": "25dece52",
   "metadata": {
    "scrolled": true
   },
   "outputs": [
    {
     "name": "stderr",
     "output_type": "stream",
     "text": [
      "<ipython-input-2-ed8fda043745>:2: DeprecationWarning: executable_path has been deprecated, please pass in a Service object\n",
      "  driver = webdriver.Chrome('C:/Users/rin12/Desktop/chromedriver.exe')\n"
     ]
    }
   ],
   "source": [
    "#step2.크롬드라이버로 원하는 url로 접속\n",
    "driver = webdriver.Chrome('C:/Users/rin12/Desktop/chromedriver.exe')\n",
    "url = 'https://www.nytimes.com/'\n",
    "driver.get(url)\n",
    "time.sleep(3)"
   ]
  },
  {
   "cell_type": "code",
   "execution_count": 3,
   "id": "845ea95d",
   "metadata": {
    "scrolled": true
   },
   "outputs": [
    {
     "name": "stderr",
     "output_type": "stream",
     "text": [
      "<ipython-input-3-fc9d91cb05e7>:2: DeprecationWarning: find_element_by_* commands are deprecated. Please use find_element() instead\n",
      "  driver.find_element_by_xpath('//*[@id=\"app\"]/div[2]/div[2]/header/section[1]/div[1]/div[2]/button').click()\n",
      "<ipython-input-3-fc9d91cb05e7>:4: DeprecationWarning: find_element_by_* commands are deprecated. Please use find_element() instead\n",
      "  search_box = driver.find_element_by_css_selector('input.css-1axrnfw')\n"
     ]
    },
    {
     "name": "stdout",
     "output_type": "stream",
     "text": [
      "검색 키워드 입력 : Korea Culture\n"
     ]
    }
   ],
   "source": [
    "#step3.검색할 키워드 입력\n",
    "driver.find_element_by_xpath('//*[@id=\"app\"]/div[2]/div[2]/header/section[1]/div[1]/div[2]/button').click()\n",
    "time.sleep(2)\n",
    "search_box = driver.find_element_by_css_selector('input.css-1axrnfw')\n",
    "query = input('검색 키워드 입력 : ')"
   ]
  },
  {
   "cell_type": "code",
   "execution_count": 4,
   "id": "86dd764e",
   "metadata": {},
   "outputs": [],
   "source": [
    "search_box.send_keys(query)\n",
    "search_box.send_keys(Keys.RETURN)\n",
    "time.sleep(1)"
   ]
  },
  {
   "cell_type": "code",
   "execution_count": 5,
   "id": "1ebb2f6e",
   "metadata": {},
   "outputs": [
    {
     "name": "stdout",
     "output_type": "stream",
     "text": [
      "크롤링을 시작할 날짜(MM/DD/YYYY): 10/20/2021\n"
     ]
    }
   ],
   "source": [
    "#step4.크롤링할 기간 지정(~현재날짜)\n",
    "startDate = input('크롤링을 시작할 날짜(MM/DD/YYYY): ')\n",
    "today= date.today()\n",
    "endDate ='{}/{}/{}'.format(today.day,today.month,today.year)"
   ]
  },
  {
   "cell_type": "code",
   "execution_count": 6,
   "id": "6b934a2e",
   "metadata": {},
   "outputs": [
    {
     "name": "stderr",
     "output_type": "stream",
     "text": [
      "<ipython-input-6-39441c8966a2>:1: DeprecationWarning: find_element_by_* commands are deprecated. Please use find_element() instead\n",
      "  driver.find_element_by_xpath('//*[@id=\"site-content\"]/div/div[1]/div[2]/div/div/div[1]/div/div/button').click()\n",
      "<ipython-input-6-39441c8966a2>:3: DeprecationWarning: find_element_by_* commands are deprecated. Please use find_element() instead\n",
      "  driver.find_element_by_xpath('//*[@id=\"site-content\"]/div/div[1]/div[2]/div/div/div[1]/div/div/div/ul/li[6]/button').click()\n",
      "<ipython-input-6-39441c8966a2>:6: DeprecationWarning: find_element_by_* commands are deprecated. Please use find_element() instead\n",
      "  search_box = driver.find_element_by_css_selector(\"#startDate\")\n",
      "<ipython-input-6-39441c8966a2>:10: DeprecationWarning: find_element_by_* commands are deprecated. Please use find_element() instead\n",
      "  search_box = driver.find_element_by_css_selector(\"#endDate\")\n"
     ]
    }
   ],
   "source": [
    "driver.find_element_by_xpath('//*[@id=\"site-content\"]/div/div[1]/div[2]/div/div/div[1]/div/div/button').click()\n",
    "time.sleep(1)\n",
    "driver.find_element_by_xpath('//*[@id=\"site-content\"]/div/div[1]/div[2]/div/div/div[1]/div/div/div/ul/li[6]/button').click()\n",
    "\n",
    "time.sleep(1)\n",
    "search_box = driver.find_element_by_css_selector(\"#startDate\")\n",
    "search_box.send_keys(startDate)\n",
    "search_box.send_keys(Keys.RETURN)\n",
    "time.sleep(3)\n",
    "search_box = driver.find_element_by_css_selector(\"#endDate\")\n",
    "search_box.send_keys(endDate)\n",
    "search_box.send_keys(Keys.RETURN)"
   ]
  },
  {
   "cell_type": "code",
   "execution_count": 7,
   "id": "13526cff",
   "metadata": {
    "scrolled": true
   },
   "outputs": [
    {
     "name": "stderr",
     "output_type": "stream",
     "text": [
      "<ipython-input-7-c00b03a4cb1a>:4: DeprecationWarning: find_element_by_* commands are deprecated. Please use find_element() instead\n",
      "  show_more = driver.find_element_by_css_selector('#site-content > div > div:nth-child(2) > div.css-1t62hi8 > div > button')\n"
     ]
    }
   ],
   "source": [
    "#step5.기간 내 기사 모두 보기\n",
    "while True:\n",
    "        try:\n",
    "            show_more = driver.find_element_by_css_selector('#site-content > div > div:nth-child(2) > div.css-1t62hi8 > div > button')\n",
    "            show_more.click()\n",
    "            time.sleep(1)\n",
    "        except:\n",
    "            break"
   ]
  },
  {
   "cell_type": "code",
   "execution_count": 8,
   "id": "b2fc2d6c",
   "metadata": {},
   "outputs": [],
   "source": [
    "#step6.크롤링한 데이터 엑셀로 저장\n",
    "req = driver.page_source \n",
    "soup = BeautifulSoup(req, 'html.parser')\n",
    "\n",
    "wb = Workbook()\n",
    "ws1 = wb.active\n",
    "#sheet이름\n",
    "ws1.title = \"NYTIMES\"\n",
    "ws1.append([\"Title\",\"Section\",\"Date\"])\n",
    "month = {'Jan.':'01', 'Feb.':'02', 'Mar.': '03', 'Apr.':'04',\n",
    "         'May.':'05', 'Jun.':'06', 'Jul.': '07', 'Aug.':'08', \n",
    "         'Sep.':'09', 'Oct.':'10', 'Nov.': '11', 'Dec.':'12'}\n",
    "\n",
    "articles = soup.select('#site-content > div > div > div > ol > li')\n",
    "for article in articles:\n",
    "    try:\n",
    "        title = article.select_one('div > div > div > a > h4').text\n",
    "        section = article.select_one('div > div > div > p').text\n",
    "        dates = article.select_one('div > span').text\n",
    "        dates = dates.split(' ')\n",
    "        if dates[1] in ['1','2','3','4','5','6','7','8','9']:\n",
    "            dates[1] = '0'+dates[1]\n",
    "        if dates[0] in month:\n",
    "            date = '2021-'+month[dates[0]]+'-'+dates[1]\n",
    "        else :\n",
    "            date = datetime.today().day\n",
    "        ws1.append([title, section, date])\n",
    "    except:\n",
    "        continue\n",
    "        \n",
    "wb.save(filename='nytimes.xlsx')"
   ]
  },
  {
   "cell_type": "code",
   "execution_count": 9,
   "id": "e2988165",
   "metadata": {},
   "outputs": [],
   "source": [
    "# driver.quit()"
   ]
  }
 ],
 "metadata": {
  "kernelspec": {
   "display_name": "Python 3 (ipykernel)",
   "language": "python",
   "name": "python3"
  },
  "language_info": {
   "codemirror_mode": {
    "name": "ipython",
    "version": 3
   },
   "file_extension": ".py",
   "mimetype": "text/x-python",
   "name": "python",
   "nbconvert_exporter": "python",
   "pygments_lexer": "ipython3",
   "version": "3.9.6"
  }
 },
 "nbformat": 4,
 "nbformat_minor": 5
}
